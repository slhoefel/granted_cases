{
  "cells": [
    {
      "cell_type": "markdown",
      "metadata": {
        "id": "view-in-github",
        "colab_type": "text"
      },
      "source": [
        "<a href=\"https://colab.research.google.com/github/slhoefel/granted_cases/blob/main/granted_cases.ipynb\" target=\"_parent\"><img src=\"https://colab.research.google.com/assets/colab-badge.svg\" alt=\"Open In Colab\"/></a>"
      ]
    },
    {
      "cell_type": "code",
      "execution_count": 196,
      "metadata": {
        "id": "bY47d3-oDna5"
      },
      "outputs": [],
      "source": [
        "!pip install -q tabula-py\n",
        "\n",
        "import tabula\n",
        "import pandas as pd\n",
        "import numpy as np\n",
        "import re"
      ]
    },
    {
      "cell_type": "code",
      "execution_count": null,
      "metadata": {
        "id": "1kBK_DRAYlGe"
      },
      "outputs": [],
      "source": [
        "from google.colab import drive\n",
        "drive.mount('/content/drive')\n",
        "\n",
        "dfs = []\n",
        "for i in range(12,24):\n",
        "  dfs.append(tabula.read_pdf(f'/content/drive/MyDrive/granded_noted_cases/{i}grantednotedlist.pdf', pages='all'))"
      ]
    },
    {
      "cell_type": "code",
      "source": [
        "case_list = []\n",
        "\n",
        "for n,d in zip(range(len(dfs)),dfs):\n",
        "  for m in range(len(d)):\n",
        "    df = dfs[n][m].fillna(0).apply(lambda x:x.astype(str))\n",
        "    case_index = df.apply(lambda x: x.str.find(' V. ')).fillna(0)\n",
        "\n",
        "    for i in case_index.columns.tolist():\n",
        "      if (case_index[i] > 0).any(axis=0):\n",
        "        case_loc = df.loc[df[i].str.contains(' V. ')]\n",
        "        cases = case_loc[i].tolist()\n",
        "        case_list.append(cases)\n",
        "\n",
        "all_cases = []\n",
        "for c in case_list:\n",
        "  all_cases.extend(c)"
      ],
      "metadata": {
        "id": "GMz23-6XgOTy"
      },
      "execution_count": 187,
      "outputs": []
    },
    {
      "cell_type": "code",
      "source": [
        "tribes = np.loadtxt('/content/drive/MyDrive/tribes.txt', delimiter=', ', skiprows=0, dtype=str)\n",
        "tribes = tribes.tolist()"
      ],
      "metadata": {
        "id": "X2fvVOozS4vj"
      },
      "execution_count": 256,
      "outputs": []
    },
    {
      "cell_type": "code",
      "source": [
        "all_tribes = []\n",
        "\n",
        "for t in tribes:  \n",
        "  t = t.replace('(','<').replace(')','>').upper()\n",
        "  t = re.sub('<[^>]+>', '', t)\n",
        "  t = t.split(' ')\n",
        "  all_tribes.extend(t)\n",
        "\n",
        "for t in all_tribes:\n",
        "  if len(t) < 3:\n",
        "    all_tribes.remove(t)"
      ],
      "metadata": {
        "id": "ZseIV7BCiJ4t"
      },
      "execution_count": 270,
      "outputs": []
    },
    {
      "cell_type": "code",
      "source": [
        "tribe_search = ['TRIBE','TRIBAL','NATIVE','NATION','BAND OF','COMMUNITY','INDIAN','RESERVATION','RANCHERIA','PUEBLO','VILLAGE','COUNCIL','ASSOCIATION','ISLAND','YUPIIT']\n",
        "len(all_cases)"
      ],
      "metadata": {
        "colab": {
          "base_uri": "https://localhost:8080/"
        },
        "id": "q_K0SwTISVEN",
        "outputId": "8c8d2da7-3678-4523-83b7-dd83682d3a67"
      },
      "execution_count": 280,
      "outputs": [
        {
          "output_type": "execute_result",
          "data": {
            "text/plain": [
              "630"
            ]
          },
          "metadata": {},
          "execution_count": 280
        }
      ]
    },
    {
      "cell_type": "markdown",
      "source": [
        "Continental tribes are identified as a people group by 'tribe,' 'nation,' 'band,' 'community,' or 'Indians,' or as a location by 'reservation', 'rancheria,' or 'pueblo,' with few exceptions. Exceptions are searched for by an individual keyword, such as 'tribal' to search for the federally recognized 'Thlopthlocco Tribal Town.' Tribes in Alaska have slightly different naming conventions, often designated as a 'village,' 'council,' or 'association.' Exceptions include Saint George Island, Saint Paul Island and Yupiit of Andreafski."
      ],
      "metadata": {
        "id": "RHpNRDemS1oO"
      }
    },
    {
      "cell_type": "code",
      "source": [
        "cross = []\n",
        "for t in tribe_search:\n",
        "  for c in all_cases:\n",
        "    if c not in cross:\n",
        "      if t in c:\n",
        "        cross.append(c)\n",
        "      if ('NATIONAL' in c) & (c in cross):\n",
        "        cross.remove(c)\n",
        "cross"
      ],
      "metadata": {
        "colab": {
          "base_uri": "https://localhost:8080/"
        },
        "id": "OO83fxySBGtG",
        "outputId": "f39ea87e-c7dc-47cf-f3e1-becbc04eb4e4"
      },
      "execution_count": 282,
      "outputs": [
        {
          "output_type": "execute_result",
          "data": {
            "text/plain": [
              "['MENOMINEE INDIAN TRIBE OF WISCONSIN V. UNITED STATES',\n",
              " 'YELLEN V. CONFEDERATED TRIBES OF CHEHALIS RESERVATION',\n",
              " 'ALASKA NATIVE VILLAGE CORP. V. CONFEDERATED TRIBES CHEHALIS',\n",
              " 'ARIZONA V. NAVAJO NATION',\n",
              " 'DEPT. OF INTERIOR V. NAVAJO NATION',\n",
              " 'DOLLAR GENERAL CORP. V. MISSISSIPPI BAND OF CHOCTAW',\n",
              " 'MICHIGAN V. BAY MILLS INDIAN COMMUNITY',\n",
              " 'RJR NABISCO V. EUROPEAN COMMUNITY',\n",
              " 'FRY V. NAPOLEON COMMUNITY SCHOOLS',\n",
              " 'MANHATTAN COMMUNITY ACCESS CORP. V. HALLECK',\n",
              " 'HOUSTON COMMUNITY COLLEGE SYSTEM V. WILSON',\n",
              " 'CFPB V. COMMUNITY FINANCIAL SERVICES ASSN. OF AM.',\n",
              " 'LEIDOS, INC. V. INDIANA PUBLIC RETIREMENT SYS.',\n",
              " 'TIMBS V. INDIANA',\n",
              " 'UNITED STATES FOREST SERVICE V. COWPASTURE RIVER PRESERVATION',\n",
              " 'ATLANTIC COAST PIPELINE, LLC V. COWPASTURE RIVER PRESERVATION ASSN',\n",
              " 'YSLETA DEL SUR PUEBLO V. TEXAS',\n",
              " 'AMERICAN CHEMISTRY COUNCIL V. EPA',\n",
              " 'U.S. FOREST SERVICE V. PACIFIC RIVERS COUNCIL',\n",
              " 'OMNICARE V. LABORERS DIST. COUNCIL CONSTR. INDUSTRY',\n",
              " 'BECERRA, SEC. OF H&HS V. MAYOR AND CITY COUNCIL OF BALTIMORE',\n",
              " 'NAT’L ASSOCIATION OF MANUFACTURERS V. DEPT. OF DEFENSE']"
            ]
          },
          "metadata": {},
          "execution_count": 282
        }
      ]
    },
    {
      "cell_type": "code",
      "source": [
        "cross = []\n",
        "for t in all_tribes:\n",
        "  for c in all_cases:\n",
        "    if c not in cross:\n",
        "      if t in c:\n",
        "        cross.append(c)\n",
        "cross"
      ],
      "metadata": {
        "colab": {
          "base_uri": "https://localhost:8080/"
        },
        "id": "ezy3NrmnWALW",
        "outputId": "cb7ae923-a4e0-45da-bd70-3b5f5504dec7"
      },
      "execution_count": 273,
      "outputs": [
        {
          "output_type": "execute_result",
          "data": {
            "text/plain": [
              "['WEAVER V. MASSACHUSETTS',\n",
              " 'MENOMINEE INDIAN TRIBE OF WISCONSIN V. UNITED STATES',\n",
              " 'BANK OF AMERICA CORP. V. MIAMI',\n",
              " 'WELLS FARGO & CO. V. MIAMI',\n",
              " 'DART CHEROKEE BASIN OPERATING CO. V. OWENS',\n",
              " 'DOLLAR GENERAL CORP. V. MISSISSIPPI BAND OF CHOCTAW',\n",
              " 'SOUTHEASTERN LEGAL FOUNDATION V. EPA',\n",
              " 'HOLLYFRONTIER CHEYENNE REFINING, LLC V. RENEWABLE FUELS ASSN.',\n",
              " 'BIRCHFIELD V. NORTH DAKOTA',\n",
              " 'NORTH DAKOTA V. EPA',\n",
              " 'ARKANSAS GAME & FISH COMM. V. UNITED STATES',\n",
              " 'KANSAS V. CHEEVER',\n",
              " 'KANSAS V. CARR',\n",
              " 'KANSAS V. GLEASON',\n",
              " 'KANSAS V. GLOVER',\n",
              " 'KAHLER V. KANSAS',\n",
              " 'GOLDMAN SACHS GROUP, INC. V. ARKANSAS TEACHER RETIREMENT SYSTEM',\n",
              " 'ARKANSAS V. GRESHAM',\n",
              " 'COVENTRY HEALTH CARE OF MISSOURI V. NEVILS',\n",
              " 'BIDEN, PRESIDENT OF U.S. V. MISSOURI',\n",
              " 'SAS INSTITUTE INC. V. IANCU, DIR., US PATENT & TRADEMARK OFFICE',\n",
              " 'HUSTED, OH SEC. OF STATE V. A. PHILIP RANDOLPH INSTITUTE',\n",
              " 'FOOD MARKETING INSTITUTE V. ARGUS LEADER MEDIA',\n",
              " 'GREAT LAKES INSURANCE SE V. RAIDERS RETREAT REALTY CO. , LLC',\n",
              " 'MOLINA-MARTINEZ V. UNITED STATES',\n",
              " 'JOHNSON V. ARTEAGA-MARTINEZ',\n",
              " 'SHINN V. MARTINEZ RAMIREZ',\n",
              " 'DENEZPI V. UNITED STATES',\n",
              " 'ARIZONA V. NAVAJO NATION',\n",
              " 'DEPT. OF INTERIOR V. NAVAJO NATION',\n",
              " 'BULLOCK V. BANKCHAMPAIGN, N. A.',\n",
              " 'YSLETA DEL SUR PUEBLO V. TEXAS',\n",
              " 'BOWMAN V. MONSANTO CO.',\n",
              " 'SUSAN B. ANTHONY LIST V. DRIEHAUS',\n",
              " 'TEVA PHARMACEUTICALS USA, INC. V. SANDOZ, INC.',\n",
              " 'PUERTO RICO V. SANCHEZ VALLE',\n",
              " 'HENSON V. SANTANDER CONSUMER USA',\n",
              " 'SANCHEZ V. MAYORKAS',\n",
              " 'SAN ANTONIO V. HOTELS.COM, L.P.',\n",
              " 'UNITED STATES V. PALOMAR-SANTIAGO',\n",
              " 'ARIZONA V. CITY AND COUNTY OF SAN FRANCISCO',\n",
              " 'SANTOS-ZACARIA V. GARLAND, ATT’Y GEN.',\n",
              " 'BOYER V. LOUISIANA',\n",
              " 'MONTGOMERY V. LOUISIANA',\n",
              " 'BETTERMAN V. MONTANA',\n",
              " 'ESQUIVEL-QUINTANA V. SESSIONS, ATT’Y GEN.',\n",
              " 'MERIT MANAGEMENT GROUP V. FTI CONSULTING',\n",
              " 'McCOY V. LOUISIANA',\n",
              " 'LEIDOS, INC. V. INDIANA PUBLIC RETIREMENT SYS.',\n",
              " 'TIMBS V. INDIANA',\n",
              " 'PARKER DRILLING MANAGEMENT SERVICES, LTD. V. NEWTON',\n",
              " 'ESPINOZA V. MONTANA DEPT. OF REVENUE',\n",
              " 'RAMOS V. LOUISIANA',\n",
              " 'RUTLEDGE, ATT’Y GEN. OF AR V. PHARMACEUTICAL CARE MANAGEMENT ASSN.',\n",
              " 'RUTLEDGE, ATT’Y GEN. OF AR V. PHARMACEUTICAL CARE MANAGE',\n",
              " 'FORD MOTOR CO. V. MONTANA EIGHTH JUDICIAL DIST. COURT',\n",
              " 'VIKING RIVER CRUISES, INC. V. MORIANA',\n",
              " 'BECERRA, SEC. OF H&HS V. LOUISIANA',\n",
              " 'YELLEN V. CONFEDERATED TRIBES OF CHEHALIS RESERVATION',\n",
              " 'ALASKA NATIVE VILLAGE CORP. V. CONFEDERATED TRIBES CHEHALIS',\n",
              " 'KOONTZ V. ST. JOHNS RIVER WATER MGMT.',\n",
              " 'U.S. FOREST SERVICE V. PACIFIC RIVERS COUNCIL',\n",
              " 'UNITED STATES FOREST SERVICE V. COWPASTURE RIVER PRESERVATION',\n",
              " 'ATLANTIC COAST PIPELINE, LLC V. COWPASTURE RIVER PRESERVATION ASSN',\n",
              " 'FEDERAL TRADE COMMISSION V. ACTAVIS, INC.',\n",
              " 'MCCUTCHEON V. FEDERAL ELECTION COMMISSION',\n",
              " 'HARRIS V. ARIZONA INDEPENDENT COMMISSION',\n",
              " 'MISSION PRODUCT HOLDINGS, INC. V. TEMPNOLOGY, LLC',\n",
              " 'BOECHLER V. COMMISSIONER']"
            ]
          },
          "metadata": {},
          "execution_count": 273
        }
      ]
    },
    {
      "cell_type": "markdown",
      "source": [
        "The script returns a list of case names that contain a string from the list of tribes. Not all matches truly contain cases involving native tribes. For example, the case of 'DART CHEROKEE BASIN OPERATING CO. V. OWENS' involved a class action lawsuit over wage theft against a company with 'Cherokee' in the name, but had no actual ties to the Cherokee tribe. The tribe name 'Dakota' returns all cases involving the states of North and South Dakota, most of which have nothing to do with native tribes or rights. A search using naming convension keywords returned the same results.\n",
        "\n",
        "Some suits required more than one hearing, as with 'ARIZONA V. NAVAJO NATION' and 'DEPT. OF INTERIOR V. NAVAJO NATION.' The State of Arizona attempted to block the Navajo Nation from pursuing their case against a federal agency, as it may have an unfavorable outcome for Arizona.  Closely related cases such as this were counted as a single case. After manually reviewing all results, 6 supreme court cases remained. \n",
        "\n",
        "These results are limited to cases filed by or against a tribe itself, as the search code does not detect cases involving individual members or related organizations representing tribal interests.\n",
        "\n",
        "For instance, several tribe names contain the word \"River\" causing the code to select the case \"U.S. FOREST SERVICE V. PACIFIC RIVERS COUNCIL.\" \n",
        "\n",
        "Though it was returned by the code and does relate to native interests, it is not included because a specific tribe is not referenced in the case title.\n",
        "\n",
        "\n",
        "\n",
        "\n",
        "'YELLEN V. CONFEDERATED TRIBES OF CHEHALIS RESERVATION','ALASKA NATIVE VILLAGE CORP. V. CONFEDERATED TRIBES CHEHALIS', (CARES)\n",
        "\n",
        "'DOLLAR GENERAL CORP. V. MISSISSIPPI BAND OF CHOCTAW', (tribal court authority)\n",
        "\n",
        "'ARIZONA V. NAVAJO NATION', (federal duty, colorado river)\n",
        "'DEPT. OF INTERIOR V. NAVAJO NATION',\n",
        "\n",
        "'MENOMINEE INDIAN TRIBE OF WISCONSIN V. UNITED STATES', (HHS funding claime)\n",
        "\n",
        "'YSLETA DEL SUR PUEBLO V. TEXAS'\n",
        "\n",
        "'MICHIGAN V. BAY MILLS INDIAN COMMUNITY'\n"
      ],
      "metadata": {
        "id": "HDmmkQpMw8fg"
      }
    }
  ],
  "metadata": {
    "colab": {
      "provenance": [],
      "authorship_tag": "ABX9TyNIGZzeFwcqvRO6Wbv5p3uz",
      "include_colab_link": true
    },
    "kernelspec": {
      "display_name": "Python 3",
      "name": "python3"
    },
    "language_info": {
      "name": "python"
    }
  },
  "nbformat": 4,
  "nbformat_minor": 0
}